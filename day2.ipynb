{
 "cells": [
  {
   "cell_type": "code",
   "execution_count": 10,
   "id": "7f752b8b",
   "metadata": {},
   "outputs": [
    {
     "name": "stdout",
     "output_type": "stream",
     "text": [
      "1 and 2 and 3 and 4 and 5\n",
      "1/2/3/4/5\n",
      "1\n",
      "2\n",
      "3\n",
      "4\n",
      "5\n",
      "1 2 3 4 5\n",
      "\n",
      "hi\n"
     ]
    }
   ],
   "source": [
    "print(1, 2, 3, 4, 5, sep=' and ') # prints 12345\n",
    "print(1, 2, 3, 4, 5, sep='/') # prints 1/2/3/4/5\n",
    "print(1, 2, 3, 4, 5, sep='\\n')\n",
    "print(1, 2, 3, 4, 5, end='\\n\\n')\n",
    "print(\"hi\")"
   ]
  },
  {
   "cell_type": "code",
   "execution_count": 15,
   "id": "90a52643",
   "metadata": {},
   "outputs": [
    {
     "name": "stdout",
     "output_type": "stream",
     "text": [
      "Hello, abc!\n"
     ]
    }
   ],
   "source": [
    "def name_input():\n",
    "    \"\"\"_this is a doc string. It should by within function.This is a fuction, here this function will take name\n",
    "as an input.After that it will print Hello, person's name !mmary_\n",
    "    \"\"\"\n",
    "    name = input(\"Enter your name: \")\n",
    "    print(f\"Hello, \"+ name+ \"!\")\n",
    "    return None\n",
    "    \n",
    "name_input()"
   ]
  },
  {
   "cell_type": "code",
   "execution_count": null,
   "id": "a1116f58",
   "metadata": {},
   "outputs": [],
   "source": [
    "def name"
   ]
  }
 ],
 "metadata": {
  "kernelspec": {
   "display_name": ".venv",
   "language": "python",
   "name": "python3"
  },
  "language_info": {
   "codemirror_mode": {
    "name": "ipython",
    "version": 3
   },
   "file_extension": ".py",
   "mimetype": "text/x-python",
   "name": "python",
   "nbconvert_exporter": "python",
   "pygments_lexer": "ipython3",
   "version": "3.13.3"
  }
 },
 "nbformat": 4,
 "nbformat_minor": 5
}
